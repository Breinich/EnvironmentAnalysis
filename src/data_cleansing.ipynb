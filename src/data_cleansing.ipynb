{
 "cells": [
  {
   "cell_type": "markdown",
   "metadata": {},
   "source": [
    "# Data Cleansing\n",
    "\n",
    "## Data metadata\n",
    "\n",
    "### [Natural Disaster Trends](https://zenodo.org/records/7930540)\n",
    "\n",
    "**Disaster_Group:** EM-DAT stores different types of disasters: natural, technological and complex. The dataset has been filtered to contain only natural disasters so this column is \"Natural\" for all rows but kept for compatibility reasons.\n",
    "\n",
    "**Disaster_Subgroup:** Every natural disaster is assigned to one of the following six subgroups: Biological, Geophysical, Climatological, Hydrological, Meteorological and Extra-terrestrial to describe the type of natural disaster. No missing values are present for this attribute.\n",
    "\n",
    "**Disaster_type:** For every natural disaster event one main disaster type is identified. If two or more disasters are related because they are consequences of each other, then this information is encoded in the attributes Associated_Dis and Associated_Dis2. No missing values are present for this attribute.\n",
    "\n",
    "**Disaster Sub-Type:** Subdivision related to the attribute Disaster_type so that a the disaster type Storm can be further classified as tropical, extra-tropical or convective storm.\n",
    "\n",
    "**Disaster Sub-Sub Type:** Any appropriate sub-division of the disaster sub-type (not applicable for all disaster sub-types). Types of natural disasters could be further broken down using two more categories which would be available in the database. For example, the Disaster type Storm could be further subdivided into Tropical storm, Extra-tropical storm or Convective storm. Even a further subdivision of the category Convective storm would be possible. Since the analysis is aimed at detecting trends on a high level, the classification of each event based on the attributes Disaster_Subgroup and Disaster _Type was considered sufficient and the further subdivisions into Disaster sub-type and Disaster Subsubtype is only intended to be considered for detailed analysis. The full table is shown in the Appendix.\n",
    "\n",
    "**Associated_Dis:** Secondary event triggered by a natural disaster (i.e. Landslide for a flood, explosion after an earthquake, ...)\n",
    "\n",
    "**Associated_Dis2:** Another secondary event triggered by a natural disaster. (i.e. Landslide for a flood, explosion after an earthquake, ...)\n",
    "\n",
    "Example: If a tsunami is triggered by an earthquake, then the attribute Disaster_Type would be Earthquake, the attribute Disaster_Subtype would be Ground movement and the attribute Associated_Dis would be Tsunami/Tidal wave.\n",
    "\n",
    "**Country:** The country in which the disaster has occurred or had an impact. If a disaster has affected more than one country, a seperate entry is created in the database for each country affected. No missing values are present for this attribute.\n",
    "\n",
    "**ISO:** Unique 3-letter code for each country defined by ISO 3166. No missing values are present for this attribute.\n",
    "\n",
    "**Region:** The region to which the country belongs, based on the UN regional division. No missing values are present for this attribute.\n",
    "\n",
    "**Continent:** The continent to which the country belongs. No missing values are present for this attribute.\n",
    "\n",
    "**Start_Year:** The year when the disaster occurred. No missing values are present for this attribute.\n",
    "\n",
    "**End Year:** The year when the disaster ended. No missing values are present for this attribute. For sudden-impact disasters also the month and the day are well defined and available. For disaster situations developing gradually over a longer time period (i.e. drought) with no specific start date the day attribute is empty. For our questions the exact date plays a subordinate role and therefore the year of the beginning of the disaster is completely sufficient for our analysis.\n",
    "\n",
    "**Total_Deaths:** Number of people who lost their life because the event happened plus the number of people whose whereabouts since the disaster are unknown, and presumed dead based on official figures. Missing values present for approx. 25% of all events.\n",
    "\n",
    "**No_Affected:** Number of people which requiring immediate assistance during an emergency situation. The indicator affected is often reported and is widely used by different actors to convey the extent, impact, or severity of a disaster in non-spatial terms. In case that no values for the attribute Total_Deaths are available this attribute could be used as a proxy.\n",
    "\n",
    "### [Global Spread of Conflict by Country and Population](https://datacatalog.worldbank.org/search/dataset/0041070/Global-Spread-of-Conflict-by-Country-and-Population)\n",
    "\n",
    "This dataset provides the spread of the conflict globally in terms of population and country for the years 2000-2016.\n",
    "\n",
    "```Fields: TODO```\n",
    "\n",
    "### [World Happiness Report](https://worldhappiness.report/data/)\n",
    "\n",
    "```Fields: TODO```\n",
    "\n",
    "### [Climate Change: Earth Surface Temperature Data]()\n",
    "\n",
    "**Date:** starts in 1750 for average land temperature and 1850 for max and min land temperatures and global ocean and land temperatures\n",
    "\n",
    "\n",
    "**LandAverageTemperature:** global average land temperature in celsius\n",
    "LandAverageTemperatureUncertainty: the 95% confidence interval around the average\n",
    "\n",
    "**LandMaxTemperature:** global average maximum land temperature in celsius\n",
    "LandMaxTemperatureUncertainty: the 95% confidence interval around the maximum land temperature\n",
    "\n",
    "**LandMinTemperature:** global average minimum land temperature in celsius\n",
    "LandMinTemperatureUncertainty: the 95% confidence interval around the minimum land temperature\n",
    "\n",
    "**LandAndOceanAverageTemperature:** global average land and ocean temperature in celsius\n",
    "LandAndOceanAverageTemperatureUncertainty: the 95% confidence interval around the global average land and ocean temperature"
   ]
  },
  {
   "cell_type": "code",
   "execution_count": 82,
   "metadata": {},
   "outputs": [],
   "source": [
    "# Imports\n",
    "\n",
    "import pandas as pd"
   ]
  },
  {
   "cell_type": "markdown",
   "metadata": {},
   "source": [
    "### disaster.csv"
   ]
  },
  {
   "cell_type": "code",
   "execution_count": 83,
   "metadata": {},
   "outputs": [],
   "source": [
    "# load disaster.csv\n",
    "\n",
    "disaster_df = pd.read_csv('../data/disaster.csv')"
   ]
  },
  {
   "cell_type": "code",
   "execution_count": 84,
   "metadata": {},
   "outputs": [
    {
     "name": "stdout",
     "output_type": "stream",
     "text": [
      "(16132, 17)\n",
      "\n",
      "Unnamed: 0               int64\n",
      "Disaster_Group          object\n",
      "Disaster_Subgroup       object\n",
      "Disaster_Type           object\n",
      "Disaster_Subtype        object\n",
      "Disaster_Subsubtype     object\n",
      "Country                 object\n",
      "ISO                     object\n",
      "Region                  object\n",
      "Continent               object\n",
      "Associated_Dis          object\n",
      "Associated_Dis2         object\n",
      "Start_Year               int64\n",
      "End_Year                 int64\n",
      "Total_Deaths           float64\n",
      "Total_Affected         float64\n",
      "Disaster_Decade          int64\n",
      "dtype: object\n",
      "\n",
      "Unnamed: 0             16132\n",
      "Disaster_Group         16132\n",
      "Disaster_Subgroup      16132\n",
      "Disaster_Type          16132\n",
      "Disaster_Subtype       13001\n",
      "Disaster_Subsubtype     1074\n",
      "Country                16132\n",
      "ISO                    16132\n",
      "Region                 16132\n",
      "Continent              16132\n",
      "Associated_Dis          3402\n",
      "Associated_Dis2          717\n",
      "Start_Year             16132\n",
      "End_Year               16132\n",
      "Total_Deaths           11485\n",
      "Total_Affected         11713\n",
      "Disaster_Decade        16132\n",
      "dtype: int64\n"
     ]
    }
   ],
   "source": [
    "# get insights on data\n",
    "\n",
    "print(disaster_df.shape)\n",
    "print()\n",
    "print(disaster_df.dtypes)\n",
    "print()\n",
    "print(disaster_df.count())"
   ]
  },
  {
   "cell_type": "code",
   "execution_count": 85,
   "metadata": {},
   "outputs": [],
   "source": [
    "# add columname to the first column (Unnamed) and make it the index\n",
    "disaster_df.rename(columns={\"Unnamed: 0\":\"id\"}, inplace=True)\n",
    "disaster_df.set_index(\"id\",inplace=True)\n",
    "\n",
    "# remove columns with unnnecessary or highly missing data\n",
    "disaster_df.drop(columns=[\"Disaster_Subtype\",\"Disaster_Subsubtype\",\"Associated_Dis\",\"Associated_Dis2\",\"Disaster_Decade\"],inplace=True)"
   ]
  },
  {
   "cell_type": "code",
   "execution_count": 86,
   "metadata": {},
   "outputs": [],
   "source": [
    "# replace NaNs\n",
    "\n",
    "# replace NaNs in Total_Deaths col with 0s, because the dataset will show how many deaths are we aware of\n",
    "disaster_df[\"Total_Deaths\"] = disaster_df[\"Total_Deaths\"].fillna(0)\n",
    "\n",
    "# replace NaNs in Total_Affected col with the death number, because at least that amount of people were affected\n",
    "disaster_df[\"Total_Affected\"] = disaster_df[\"Total_Affected\"].fillna(disaster_df[\"Total_Deaths\"])\n",
    "\n",
    "# fix the types of the columns\n",
    "disaster_df = disaster_df.convert_dtypes()"
   ]
  },
  {
   "cell_type": "code",
   "execution_count": 87,
   "metadata": {},
   "outputs": [
    {
     "name": "stdout",
     "output_type": "stream",
     "text": [
      "(16132, 11)\n",
      "\n",
      "Disaster_Group       string[python]\n",
      "Disaster_Subgroup    string[python]\n",
      "Disaster_Type        string[python]\n",
      "Country              string[python]\n",
      "ISO                  string[python]\n",
      "Region               string[python]\n",
      "Continent            string[python]\n",
      "Start_Year                    Int64\n",
      "End_Year                      Int64\n",
      "Total_Deaths                  Int64\n",
      "Total_Affected                Int64\n",
      "dtype: object\n",
      "\n",
      "Disaster_Group       16132\n",
      "Disaster_Subgroup    16132\n",
      "Disaster_Type        16132\n",
      "Country              16132\n",
      "ISO                  16132\n",
      "Region               16132\n",
      "Continent            16132\n",
      "Start_Year           16132\n",
      "End_Year             16132\n",
      "Total_Deaths         16132\n",
      "Total_Affected       16132\n",
      "dtype: int64\n"
     ]
    }
   ],
   "source": [
    "# observe the data again\n",
    "\n",
    "print(disaster_df.shape)\n",
    "print()\n",
    "print(disaster_df.dtypes)\n",
    "print()\n",
    "print(disaster_df.count())"
   ]
  },
  {
   "cell_type": "markdown",
   "metadata": {},
   "source": [
    "### create the countries dataframe"
   ]
  },
  {
   "cell_type": "code",
   "execution_count": 88,
   "metadata": {},
   "outputs": [
    {
     "data": {
      "text/html": [
       "<div>\n",
       "<style scoped>\n",
       "    .dataframe tbody tr th:only-of-type {\n",
       "        vertical-align: middle;\n",
       "    }\n",
       "\n",
       "    .dataframe tbody tr th {\n",
       "        vertical-align: top;\n",
       "    }\n",
       "\n",
       "    .dataframe thead th {\n",
       "        text-align: right;\n",
       "    }\n",
       "</style>\n",
       "<table border=\"1\" class=\"dataframe\">\n",
       "  <thead>\n",
       "    <tr style=\"text-align: right;\">\n",
       "      <th></th>\n",
       "      <th>Name</th>\n",
       "      <th>Continent</th>\n",
       "    </tr>\n",
       "    <tr>\n",
       "      <th>ISO</th>\n",
       "      <th></th>\n",
       "      <th></th>\n",
       "    </tr>\n",
       "  </thead>\n",
       "  <tbody>\n",
       "    <tr>\n",
       "      <th>CPV</th>\n",
       "      <td>Cabo Verde</td>\n",
       "      <td>Africa</td>\n",
       "    </tr>\n",
       "    <tr>\n",
       "      <th>IND</th>\n",
       "      <td>India</td>\n",
       "      <td>Asia</td>\n",
       "    </tr>\n",
       "    <tr>\n",
       "      <th>GTM</th>\n",
       "      <td>Guatemala</td>\n",
       "      <td>Americas</td>\n",
       "    </tr>\n",
       "    <tr>\n",
       "      <th>CAN</th>\n",
       "      <td>Canada</td>\n",
       "      <td>Americas</td>\n",
       "    </tr>\n",
       "    <tr>\n",
       "      <th>COM</th>\n",
       "      <td>Comoros (the)</td>\n",
       "      <td>Africa</td>\n",
       "    </tr>\n",
       "    <tr>\n",
       "      <th>...</th>\n",
       "      <td>...</td>\n",
       "      <td>...</td>\n",
       "    </tr>\n",
       "    <tr>\n",
       "      <th>QAT</th>\n",
       "      <td>Qatar</td>\n",
       "      <td>Asia</td>\n",
       "    </tr>\n",
       "    <tr>\n",
       "      <th>BLM</th>\n",
       "      <td>Saint Barthélemy</td>\n",
       "      <td>Americas</td>\n",
       "    </tr>\n",
       "    <tr>\n",
       "      <th>MAF</th>\n",
       "      <td>Saint Martin (French Part)</td>\n",
       "      <td>Americas</td>\n",
       "    </tr>\n",
       "    <tr>\n",
       "      <th>SXM</th>\n",
       "      <td>Sint Maarten (Dutch part)</td>\n",
       "      <td>Americas</td>\n",
       "    </tr>\n",
       "    <tr>\n",
       "      <th>IMN</th>\n",
       "      <td>Isle of Man</td>\n",
       "      <td>Europe</td>\n",
       "    </tr>\n",
       "  </tbody>\n",
       "</table>\n",
       "<p>228 rows × 2 columns</p>\n",
       "</div>"
      ],
      "text/plain": [
       "                           Name Continent\n",
       "ISO                                      \n",
       "CPV                  Cabo Verde    Africa\n",
       "IND                       India      Asia\n",
       "GTM                   Guatemala  Americas\n",
       "CAN                      Canada  Americas\n",
       "COM               Comoros (the)    Africa\n",
       "..                          ...       ...\n",
       "QAT                       Qatar      Asia\n",
       "BLM            Saint Barthélemy  Americas\n",
       "MAF  Saint Martin (French Part)  Americas\n",
       "SXM   Sint Maarten (Dutch part)  Americas\n",
       "IMN                 Isle of Man    Europe\n",
       "\n",
       "[228 rows x 2 columns]"
      ]
     },
     "execution_count": 88,
     "metadata": {},
     "output_type": "execute_result"
    }
   ],
   "source": [
    "# create a new dataframe to store the country names, continents and ISO codes there\n",
    "countries_df = disaster_df[[\"ISO\",\"Country\",\"Continent\"]].set_index(\"ISO\")\n",
    "countries_df.drop_duplicates(inplace=True)\n",
    "countries_df.rename(columns={\"Country\":\"Name\"}, inplace=True)\n",
    "\n",
    "# remove the redundant country name and continent columns from disaster dataframe\n",
    "disaster_df.drop(columns=[\"Country\",\"Continent\"], inplace=True)"
   ]
  },
  {
   "cell_type": "markdown",
   "metadata": {},
   "source": [
    "### conflict.xlsx"
   ]
  },
  {
   "cell_type": "code",
   "execution_count": null,
   "metadata": {},
   "outputs": [],
   "source": []
  },
  {
   "cell_type": "markdown",
   "metadata": {},
   "source": [
    "### happiness.xls"
   ]
  },
  {
   "cell_type": "code",
   "execution_count": null,
   "metadata": {},
   "outputs": [],
   "source": []
  },
  {
   "cell_type": "markdown",
   "metadata": {},
   "source": [
    "### temperature.csv"
   ]
  },
  {
   "cell_type": "code",
   "execution_count": null,
   "metadata": {},
   "outputs": [],
   "source": []
  }
 ],
 "metadata": {
  "kernelspec": {
   "display_name": "Python 3",
   "language": "python",
   "name": "python3"
  },
  "language_info": {
   "codemirror_mode": {
    "name": "ipython",
    "version": 3
   },
   "file_extension": ".py",
   "mimetype": "text/x-python",
   "name": "python",
   "nbconvert_exporter": "python",
   "pygments_lexer": "ipython3",
   "version": "3.12.3"
  }
 },
 "nbformat": 4,
 "nbformat_minor": 2
}
