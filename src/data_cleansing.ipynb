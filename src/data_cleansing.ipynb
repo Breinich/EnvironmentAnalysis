{
 "cells": [
  {
   "cell_type": "markdown",
   "metadata": {},
   "source": [
    "# Data Cleansing\n",
    "\n",
    "## Data metadata\n",
    "\n",
    "### [Natural Disaster Trends](https://zenodo.org/records/7930540)\n",
    "\n",
    "**Disaster_Group:** EM-DAT stores different types of disasters: natural, technological and complex. The dataset has been filtered to contain only natural disasters so this column is \"Natural\" for all rows but kept for compatibility reasons.\n",
    "\n",
    "**Disaster_Subgroup:** Every natural disaster is assigned to one of the following six subgroups: Biological, Geophysical, Climatological, Hydrological, Meteorological and Extra-terrestrial to describe the type of natural disaster. No missing values are present for this attribute.\n",
    "\n",
    "**Disaster_type:** For every natural disaster event one main disaster type is identified. If two or more disasters are related because they are consequences of each other, then this information is encoded in the attributes Associated_Dis and Associated_Dis2. No missing values are present for this attribute.\n",
    "\n",
    "**Disaster Sub-Type:** Subdivision related to the attribute Disaster_type so that a the disaster type Storm can be further classified as tropical, extra-tropical or convective storm.\n",
    "\n",
    "**Disaster Sub-Sub Type:** Any appropriate sub-division of the disaster sub-type (not applicable for all disaster sub-types). Types of natural disasters could be further broken down using two more categories which would be available in the database. For example, the Disaster type Storm could be further subdivided into Tropical storm, Extra-tropical storm or Convective storm. Even a further subdivision of the category Convective storm would be possible. Since the analysis is aimed at detecting trends on a high level, the classification of each event based on the attributes Disaster_Subgroup and Disaster _Type was considered sufficient and the further subdivisions into Disaster sub-type and Disaster Subsubtype is only intended to be considered for detailed analysis. The full table is shown in the Appendix.\n",
    "\n",
    "**Associated_Dis:** Secondary event triggered by a natural disaster (i.e. Landslide for a flood, explosion after an earthquake, ...)\n",
    "\n",
    "**Associated_Dis2:** Another secondary event triggered by a natural disaster. (i.e. Landslide for a flood, explosion after an earthquake, ...)\n",
    "\n",
    "Example: If a tsunami is triggered by an earthquake, then the attribute Disaster_Type would be Earthquake, the attribute Disaster_Subtype would be Ground movement and the attribute Associated_Dis would be Tsunami/Tidal wave.\n",
    "\n",
    "**Country:** The country in which the disaster has occurred or had an impact. If a disaster has affected more than one country, a seperate entry is created in the database for each country affected. No missing values are present for this attribute.\n",
    "\n",
    "**ISO:** Unique 3-letter code for each country defined by ISO 3166. No missing values are present for this attribute.\n",
    "\n",
    "**Region:** The region to which the country belongs, based on the UN regional division. No missing values are present for this attribute.\n",
    "\n",
    "**Continent:** The continent to which the country belongs. No missing values are present for this attribute.\n",
    "\n",
    "**Start_Year:** The year when the disaster occurred. No missing values are present for this attribute.\n",
    "\n",
    "**End Year:** The year when the disaster ended. No missing values are present for this attribute. For sudden-impact disasters also the month and the day are well defined and available. For disaster situations developing gradually over a longer time period (i.e. drought) with no specific start date the day attribute is empty. For our questions the exact date plays a subordinate role and therefore the year of the beginning of the disaster is completely sufficient for our analysis.\n",
    "\n",
    "**Total_Deaths:** Number of people who lost their life because the event happened plus the number of people whose whereabouts since the disaster are unknown, and presumed dead based on official figures. Missing values present for approx. 25% of all events.\n",
    "\n",
    "**No_Affected:** Number of people which requiring immediate assistance during an emergency situation. The indicator affected is often reported and is widely used by different actors to convey the extent, impact, or severity of a disaster in non-spatial terms. In case that no values for the attribute Total_Deaths are available this attribute could be used as a proxy.\n",
    "\n",
    "### [Global Spread of Conflict by Country and Population](https://datacatalog.worldbank.org/search/dataset/0041070/Global-Spread-of-Conflict-by-Country-and-Population)\n",
    "\n",
    "This dataset provides the spread of the conflict globally in terms of population and country for the years 2000-2016.\n",
    "\n",
    "```Fields: TODO```\n",
    "\n",
    "### [World Happiness Report](https://worldhappiness.report/data/)\n",
    "\n",
    "```Fields: TODO```\n",
    "\n",
    "### [Climate Change: Earth Surface Temperature Data]()\n",
    "\n",
    "**Date:** starts in 1750 for average land temperature and 1850 for max and min land temperatures and global ocean and land temperatures\n",
    "\n",
    "\n",
    "**LandAverageTemperature:** global average land temperature in celsius\n",
    "LandAverageTemperatureUncertainty: the 95% confidence interval around the average\n",
    "\n",
    "**LandMaxTemperature:** global average maximum land temperature in celsius\n",
    "LandMaxTemperatureUncertainty: the 95% confidence interval around the maximum land temperature\n",
    "\n",
    "**LandMinTemperature:** global average minimum land temperature in celsius\n",
    "LandMinTemperatureUncertainty: the 95% confidence interval around the minimum land temperature\n",
    "\n",
    "**LandAndOceanAverageTemperature:** global average land and ocean temperature in celsius\n",
    "LandAndOceanAverageTemperatureUncertainty: the 95% confidence interval around the global average land and ocean temperature"
   ]
  },
  {
   "cell_type": "code",
   "execution_count": 138,
   "metadata": {},
   "outputs": [],
   "source": [
    "# Imports\n",
    "\n",
    "import pandas as pd"
   ]
  },
  {
   "cell_type": "markdown",
   "metadata": {},
   "source": [
    "### disaster.csv"
   ]
  },
  {
   "cell_type": "code",
   "execution_count": 139,
   "metadata": {},
   "outputs": [],
   "source": [
    "# load disaster.csv\n",
    "\n",
    "disaster_df = pd.read_csv('../data/disaster.csv')"
   ]
  },
  {
   "cell_type": "code",
   "execution_count": 140,
   "metadata": {},
   "outputs": [
    {
     "data": {
      "text/plain": [
       "(16132, 17)"
      ]
     },
     "metadata": {},
     "output_type": "display_data"
    },
    {
     "data": {
      "text/plain": [
       "Unnamed: 0               int64\n",
       "Disaster_Group          object\n",
       "Disaster_Subgroup       object\n",
       "Disaster_Type           object\n",
       "Disaster_Subtype        object\n",
       "Disaster_Subsubtype     object\n",
       "Country                 object\n",
       "ISO                     object\n",
       "Region                  object\n",
       "Continent               object\n",
       "Associated_Dis          object\n",
       "Associated_Dis2         object\n",
       "Start_Year               int64\n",
       "End_Year                 int64\n",
       "Total_Deaths           float64\n",
       "Total_Affected         float64\n",
       "Disaster_Decade          int64\n",
       "dtype: object"
      ]
     },
     "metadata": {},
     "output_type": "display_data"
    },
    {
     "data": {
      "text/plain": [
       "Unnamed: 0             16132\n",
       "Disaster_Group         16132\n",
       "Disaster_Subgroup      16132\n",
       "Disaster_Type          16132\n",
       "Disaster_Subtype       13001\n",
       "Disaster_Subsubtype     1074\n",
       "Country                16132\n",
       "ISO                    16132\n",
       "Region                 16132\n",
       "Continent              16132\n",
       "Associated_Dis          3402\n",
       "Associated_Dis2          717\n",
       "Start_Year             16132\n",
       "End_Year               16132\n",
       "Total_Deaths           11485\n",
       "Total_Affected         11713\n",
       "Disaster_Decade        16132\n",
       "dtype: int64"
      ]
     },
     "metadata": {},
     "output_type": "display_data"
    }
   ],
   "source": [
    "# get insights on data\n",
    "\n",
    "display(disaster_df.shape)\n",
    "\n",
    "display(disaster_df.dtypes)\n",
    "\n",
    "display(disaster_df.count())"
   ]
  },
  {
   "cell_type": "code",
   "execution_count": 141,
   "metadata": {},
   "outputs": [],
   "source": [
    "# add columname to the first column (Unnamed) and make it the index\n",
    "disaster_df.rename(columns={\"Unnamed: 0\":\"id\"}, inplace=True)\n",
    "disaster_df.set_index(\"id\",inplace=True)\n",
    "\n",
    "# remove columns with unnnecessary or highly missing data\n",
    "disaster_df.drop(columns=[\"Disaster_Subtype\",\"Disaster_Subsubtype\",\"Associated_Dis\",\"Associated_Dis2\",\"Disaster_Decade\"],inplace=True)"
   ]
  },
  {
   "cell_type": "code",
   "execution_count": 142,
   "metadata": {},
   "outputs": [],
   "source": [
    "# replace NaNs\n",
    "\n",
    "# replace NaNs in Total_Deaths col with 0s, because the dataset will show how many deaths are we aware of\n",
    "disaster_df[\"Total_Deaths\"] = disaster_df[\"Total_Deaths\"].fillna(0)\n",
    "\n",
    "# replace NaNs in Total_Affected col with the death number, because at least that amount of people were affected\n",
    "disaster_df[\"Total_Affected\"] = disaster_df[\"Total_Affected\"].fillna(disaster_df[\"Total_Deaths\"])\n",
    "\n",
    "# fix the types of the columns\n",
    "disaster_df = disaster_df.convert_dtypes()"
   ]
  },
  {
   "cell_type": "code",
   "execution_count": 143,
   "metadata": {},
   "outputs": [
    {
     "data": {
      "text/plain": [
       "(16132, 11)"
      ]
     },
     "metadata": {},
     "output_type": "display_data"
    },
    {
     "data": {
      "text/plain": [
       "Disaster_Group       string[python]\n",
       "Disaster_Subgroup    string[python]\n",
       "Disaster_Type        string[python]\n",
       "Country              string[python]\n",
       "ISO                  string[python]\n",
       "Region               string[python]\n",
       "Continent            string[python]\n",
       "Start_Year                    Int64\n",
       "End_Year                      Int64\n",
       "Total_Deaths                  Int64\n",
       "Total_Affected                Int64\n",
       "dtype: object"
      ]
     },
     "metadata": {},
     "output_type": "display_data"
    },
    {
     "data": {
      "text/plain": [
       "Disaster_Group       16132\n",
       "Disaster_Subgroup    16132\n",
       "Disaster_Type        16132\n",
       "Country              16132\n",
       "ISO                  16132\n",
       "Region               16132\n",
       "Continent            16132\n",
       "Start_Year           16132\n",
       "End_Year             16132\n",
       "Total_Deaths         16132\n",
       "Total_Affected       16132\n",
       "dtype: int64"
      ]
     },
     "metadata": {},
     "output_type": "display_data"
    }
   ],
   "source": [
    "# observe the data again\n",
    "\n",
    "display(disaster_df.shape)\n",
    "\n",
    "display(disaster_df.dtypes)\n",
    "\n",
    "display(disaster_df.count())"
   ]
  },
  {
   "cell_type": "markdown",
   "metadata": {},
   "source": [
    "### create the countries dataframe"
   ]
  },
  {
   "cell_type": "code",
   "execution_count": 144,
   "metadata": {},
   "outputs": [],
   "source": [
    "# create a new dataframe to store the country names, continents and ISO codes there\n",
    "countries_df = disaster_df[[\"ISO\",\"Country\",\"Continent\"]].set_index(\"ISO\")\n",
    "countries_df.drop_duplicates(inplace=True)\n",
    "countries_df.rename(columns={\"Country\":\"Name\"}, inplace=True)\n",
    "\n",
    "# remove the redundant country name and continent columns from disaster dataframe\n",
    "disaster_df.drop(columns=[\"Country\",\"Continent\"], inplace=True)"
   ]
  },
  {
   "cell_type": "code",
   "execution_count": 145,
   "metadata": {},
   "outputs": [],
   "source": [
    "# export the dataframes to csv files\n",
    "\n",
    "disaster_df.to_csv(\"../cleaned_data/disaster_cleaned.csv\")\n",
    "countries_df.to_csv(\"../cleaned_data/countries.csv\")"
   ]
  },
  {
   "cell_type": "code",
   "execution_count": 146,
   "metadata": {},
   "outputs": [],
   "source": [
    "def get_iso(name):\n",
    "    res = countries_df[countries_df[\"Name\"]==name].index \n",
    "    if len(res) == 0:\n",
    "        return name\n",
    "    else:\n",
    "        return res[0]"
   ]
  },
  {
   "cell_type": "markdown",
   "metadata": {},
   "source": [
    "### happiness.xls"
   ]
  },
  {
   "cell_type": "code",
   "execution_count": 147,
   "metadata": {},
   "outputs": [
    {
     "data": {
      "text/html": [
       "<div>\n",
       "<style scoped>\n",
       "    .dataframe tbody tr th:only-of-type {\n",
       "        vertical-align: middle;\n",
       "    }\n",
       "\n",
       "    .dataframe tbody tr th {\n",
       "        vertical-align: top;\n",
       "    }\n",
       "\n",
       "    .dataframe thead th {\n",
       "        text-align: right;\n",
       "    }\n",
       "</style>\n",
       "<table border=\"1\" class=\"dataframe\">\n",
       "  <thead>\n",
       "    <tr style=\"text-align: right;\">\n",
       "      <th></th>\n",
       "      <th>Country name</th>\n",
       "      <th>year</th>\n",
       "      <th>Life Ladder</th>\n",
       "      <th>Log GDP per capita</th>\n",
       "      <th>Social support</th>\n",
       "      <th>Healthy life expectancy at birth</th>\n",
       "      <th>Freedom to make life choices</th>\n",
       "      <th>Generosity</th>\n",
       "      <th>Perceptions of corruption</th>\n",
       "      <th>Positive affect</th>\n",
       "      <th>Negative affect</th>\n",
       "    </tr>\n",
       "  </thead>\n",
       "  <tbody>\n",
       "    <tr>\n",
       "      <th>0</th>\n",
       "      <td>Afghanistan</td>\n",
       "      <td>2008</td>\n",
       "      <td>3.723590</td>\n",
       "      <td>7.350416</td>\n",
       "      <td>0.450662</td>\n",
       "      <td>50.500000</td>\n",
       "      <td>0.718114</td>\n",
       "      <td>0.164055</td>\n",
       "      <td>0.881686</td>\n",
       "      <td>0.414297</td>\n",
       "      <td>0.258195</td>\n",
       "    </tr>\n",
       "    <tr>\n",
       "      <th>1</th>\n",
       "      <td>Afghanistan</td>\n",
       "      <td>2009</td>\n",
       "      <td>4.401778</td>\n",
       "      <td>7.508646</td>\n",
       "      <td>0.552308</td>\n",
       "      <td>50.799999</td>\n",
       "      <td>0.678896</td>\n",
       "      <td>0.187297</td>\n",
       "      <td>0.850035</td>\n",
       "      <td>0.481421</td>\n",
       "      <td>0.237092</td>\n",
       "    </tr>\n",
       "    <tr>\n",
       "      <th>2</th>\n",
       "      <td>Afghanistan</td>\n",
       "      <td>2010</td>\n",
       "      <td>4.758381</td>\n",
       "      <td>7.613900</td>\n",
       "      <td>0.539075</td>\n",
       "      <td>51.099998</td>\n",
       "      <td>0.600127</td>\n",
       "      <td>0.117861</td>\n",
       "      <td>0.706766</td>\n",
       "      <td>0.516907</td>\n",
       "      <td>0.275324</td>\n",
       "    </tr>\n",
       "    <tr>\n",
       "      <th>3</th>\n",
       "      <td>Afghanistan</td>\n",
       "      <td>2011</td>\n",
       "      <td>3.831719</td>\n",
       "      <td>7.581259</td>\n",
       "      <td>0.521104</td>\n",
       "      <td>51.400002</td>\n",
       "      <td>0.495901</td>\n",
       "      <td>0.160098</td>\n",
       "      <td>0.731109</td>\n",
       "      <td>0.479835</td>\n",
       "      <td>0.267175</td>\n",
       "    </tr>\n",
       "    <tr>\n",
       "      <th>4</th>\n",
       "      <td>Afghanistan</td>\n",
       "      <td>2012</td>\n",
       "      <td>3.782938</td>\n",
       "      <td>7.660506</td>\n",
       "      <td>0.520637</td>\n",
       "      <td>51.700001</td>\n",
       "      <td>0.530935</td>\n",
       "      <td>0.234157</td>\n",
       "      <td>0.775620</td>\n",
       "      <td>0.613513</td>\n",
       "      <td>0.267919</td>\n",
       "    </tr>\n",
       "  </tbody>\n",
       "</table>\n",
       "</div>"
      ],
      "text/plain": [
       "  Country name  year  Life Ladder  Log GDP per capita  Social support  \\\n",
       "0  Afghanistan  2008     3.723590            7.350416        0.450662   \n",
       "1  Afghanistan  2009     4.401778            7.508646        0.552308   \n",
       "2  Afghanistan  2010     4.758381            7.613900        0.539075   \n",
       "3  Afghanistan  2011     3.831719            7.581259        0.521104   \n",
       "4  Afghanistan  2012     3.782938            7.660506        0.520637   \n",
       "\n",
       "   Healthy life expectancy at birth  Freedom to make life choices  Generosity  \\\n",
       "0                         50.500000                      0.718114    0.164055   \n",
       "1                         50.799999                      0.678896    0.187297   \n",
       "2                         51.099998                      0.600127    0.117861   \n",
       "3                         51.400002                      0.495901    0.160098   \n",
       "4                         51.700001                      0.530935    0.234157   \n",
       "\n",
       "   Perceptions of corruption  Positive affect  Negative affect  \n",
       "0                   0.881686         0.414297         0.258195  \n",
       "1                   0.850035         0.481421         0.237092  \n",
       "2                   0.706766         0.516907         0.275324  \n",
       "3                   0.731109         0.479835         0.267175  \n",
       "4                   0.775620         0.613513         0.267919  "
      ]
     },
     "metadata": {},
     "output_type": "display_data"
    },
    {
     "data": {
      "text/plain": [
       "Country name                         object\n",
       "year                                  int64\n",
       "Life Ladder                         float64\n",
       "Log GDP per capita                  float64\n",
       "Social support                      float64\n",
       "Healthy life expectancy at birth    float64\n",
       "Freedom to make life choices        float64\n",
       "Generosity                          float64\n",
       "Perceptions of corruption           float64\n",
       "Positive affect                     float64\n",
       "Negative affect                     float64\n",
       "dtype: object"
      ]
     },
     "metadata": {},
     "output_type": "display_data"
    },
    {
     "data": {
      "text/plain": [
       "Country name                        2363\n",
       "year                                2363\n",
       "Life Ladder                         2363\n",
       "Log GDP per capita                  2335\n",
       "Social support                      2350\n",
       "Healthy life expectancy at birth    2300\n",
       "Freedom to make life choices        2327\n",
       "Generosity                          2282\n",
       "Perceptions of corruption           2238\n",
       "Positive affect                     2339\n",
       "Negative affect                     2347\n",
       "dtype: int64"
      ]
     },
     "metadata": {},
     "output_type": "display_data"
    }
   ],
   "source": [
    "import pandas as pd\n",
    "import pycountry\n",
    "\n",
    "# import file\n",
    "df_happiness = pd.read_excel('../data/happiness.xls', parse_dates=True)\n",
    "\n",
    "display(df_happiness.head())\n",
    "\n",
    "display(df_happiness.dtypes)\n",
    "\n",
    "display(df_happiness.count())\n"
   ]
  },
  {
   "cell_type": "code",
   "execution_count": 148,
   "metadata": {},
   "outputs": [],
   "source": [
    "#function to get the ISO code for each country\n",
    "def get_iso_code(country_name):\n",
    "    try:\n",
    "        return pycountry.countries.lookup(country_name).alpha_3\n",
    "    except LookupError:\n",
    "        return country_name"
   ]
  },
  {
   "cell_type": "code",
   "execution_count": 149,
   "metadata": {},
   "outputs": [
    {
     "data": {
      "text/html": [
       "<div>\n",
       "<style scoped>\n",
       "    .dataframe tbody tr th:only-of-type {\n",
       "        vertical-align: middle;\n",
       "    }\n",
       "\n",
       "    .dataframe tbody tr th {\n",
       "        vertical-align: top;\n",
       "    }\n",
       "\n",
       "    .dataframe thead th {\n",
       "        text-align: right;\n",
       "    }\n",
       "</style>\n",
       "<table border=\"1\" class=\"dataframe\">\n",
       "  <thead>\n",
       "    <tr style=\"text-align: right;\">\n",
       "      <th></th>\n",
       "      <th>year</th>\n",
       "      <th>Life Ladder</th>\n",
       "      <th>Log GDP per capita</th>\n",
       "      <th>Social support</th>\n",
       "      <th>Healthy life expectancy at birth</th>\n",
       "      <th>Freedom to make life choices</th>\n",
       "      <th>Generosity</th>\n",
       "      <th>Perceptions of corruption</th>\n",
       "      <th>Positive affect</th>\n",
       "      <th>Negative affect</th>\n",
       "      <th>ISO</th>\n",
       "    </tr>\n",
       "  </thead>\n",
       "  <tbody>\n",
       "    <tr>\n",
       "      <th>0</th>\n",
       "      <td>2008</td>\n",
       "      <td>3.723590</td>\n",
       "      <td>7.350416</td>\n",
       "      <td>0.450662</td>\n",
       "      <td>50.500000</td>\n",
       "      <td>0.718114</td>\n",
       "      <td>0.164055</td>\n",
       "      <td>0.881686</td>\n",
       "      <td>0.414297</td>\n",
       "      <td>0.258195</td>\n",
       "      <td>AFG</td>\n",
       "    </tr>\n",
       "    <tr>\n",
       "      <th>1</th>\n",
       "      <td>2009</td>\n",
       "      <td>4.401778</td>\n",
       "      <td>7.508646</td>\n",
       "      <td>0.552308</td>\n",
       "      <td>50.799999</td>\n",
       "      <td>0.678896</td>\n",
       "      <td>0.187297</td>\n",
       "      <td>0.850035</td>\n",
       "      <td>0.481421</td>\n",
       "      <td>0.237092</td>\n",
       "      <td>AFG</td>\n",
       "    </tr>\n",
       "    <tr>\n",
       "      <th>2</th>\n",
       "      <td>2010</td>\n",
       "      <td>4.758381</td>\n",
       "      <td>7.613900</td>\n",
       "      <td>0.539075</td>\n",
       "      <td>51.099998</td>\n",
       "      <td>0.600127</td>\n",
       "      <td>0.117861</td>\n",
       "      <td>0.706766</td>\n",
       "      <td>0.516907</td>\n",
       "      <td>0.275324</td>\n",
       "      <td>AFG</td>\n",
       "    </tr>\n",
       "    <tr>\n",
       "      <th>3</th>\n",
       "      <td>2011</td>\n",
       "      <td>3.831719</td>\n",
       "      <td>7.581259</td>\n",
       "      <td>0.521104</td>\n",
       "      <td>51.400002</td>\n",
       "      <td>0.495901</td>\n",
       "      <td>0.160098</td>\n",
       "      <td>0.731109</td>\n",
       "      <td>0.479835</td>\n",
       "      <td>0.267175</td>\n",
       "      <td>AFG</td>\n",
       "    </tr>\n",
       "    <tr>\n",
       "      <th>4</th>\n",
       "      <td>2012</td>\n",
       "      <td>3.782938</td>\n",
       "      <td>7.660506</td>\n",
       "      <td>0.520637</td>\n",
       "      <td>51.700001</td>\n",
       "      <td>0.530935</td>\n",
       "      <td>0.234157</td>\n",
       "      <td>0.775620</td>\n",
       "      <td>0.613513</td>\n",
       "      <td>0.267919</td>\n",
       "      <td>AFG</td>\n",
       "    </tr>\n",
       "  </tbody>\n",
       "</table>\n",
       "</div>"
      ],
      "text/plain": [
       "   year  Life Ladder  Log GDP per capita  Social support  \\\n",
       "0  2008     3.723590            7.350416        0.450662   \n",
       "1  2009     4.401778            7.508646        0.552308   \n",
       "2  2010     4.758381            7.613900        0.539075   \n",
       "3  2011     3.831719            7.581259        0.521104   \n",
       "4  2012     3.782938            7.660506        0.520637   \n",
       "\n",
       "   Healthy life expectancy at birth  Freedom to make life choices  Generosity  \\\n",
       "0                         50.500000                      0.718114    0.164055   \n",
       "1                         50.799999                      0.678896    0.187297   \n",
       "2                         51.099998                      0.600127    0.117861   \n",
       "3                         51.400002                      0.495901    0.160098   \n",
       "4                         51.700001                      0.530935    0.234157   \n",
       "\n",
       "   Perceptions of corruption  Positive affect  Negative affect  ISO  \n",
       "0                   0.881686         0.414297         0.258195  AFG  \n",
       "1                   0.850035         0.481421         0.237092  AFG  \n",
       "2                   0.706766         0.516907         0.275324  AFG  \n",
       "3                   0.731109         0.479835         0.267175  AFG  \n",
       "4                   0.775620         0.613513         0.267919  AFG  "
      ]
     },
     "metadata": {},
     "output_type": "display_data"
    },
    {
     "data": {
      "text/plain": [
       "year                                  int64\n",
       "Life Ladder                         float64\n",
       "Log GDP per capita                  float64\n",
       "Social support                      float64\n",
       "Healthy life expectancy at birth    float64\n",
       "Freedom to make life choices        float64\n",
       "Generosity                          float64\n",
       "Perceptions of corruption           float64\n",
       "Positive affect                     float64\n",
       "Negative affect                     float64\n",
       "ISO                                  object\n",
       "dtype: object"
      ]
     },
     "metadata": {},
     "output_type": "display_data"
    },
    {
     "data": {
      "text/plain": [
       "year                                2363\n",
       "Life Ladder                         2363\n",
       "Log GDP per capita                  2363\n",
       "Social support                      2363\n",
       "Healthy life expectancy at birth    2363\n",
       "Freedom to make life choices        2363\n",
       "Generosity                          2363\n",
       "Perceptions of corruption           2363\n",
       "Positive affect                     2363\n",
       "Negative affect                     2363\n",
       "ISO                                 2363\n",
       "dtype: int64"
      ]
     },
     "metadata": {},
     "output_type": "display_data"
    }
   ],
   "source": [
    "# fill in the empty cells with 0\n",
    "df_happiness.fillna(0, inplace=True)\n",
    "\n",
    "df_happiness[\"ISO\"]= df_happiness[\"Country name\"].apply(get_iso_code)\n",
    "df_happiness.drop(columns=[\"Country name\"], inplace=True)\n",
    "\n",
    "display(df_happiness.head())\n",
    "\n",
    "display(df_happiness.dtypes)\n",
    "\n",
    "display(df_happiness.count())"
   ]
  },
  {
   "cell_type": "code",
   "execution_count": 150,
   "metadata": {},
   "outputs": [],
   "source": [
    "#export as .csv\n",
    "df_happiness.to_csv(\"../cleaned_data/happiness_cleaned.csv\")"
   ]
  },
  {
   "cell_type": "markdown",
   "metadata": {},
   "source": [
    "### temperature.csv"
   ]
  },
  {
   "cell_type": "code",
   "execution_count": 151,
   "metadata": {},
   "outputs": [
    {
     "data": {
      "text/html": [
       "<div>\n",
       "<style scoped>\n",
       "    .dataframe tbody tr th:only-of-type {\n",
       "        vertical-align: middle;\n",
       "    }\n",
       "\n",
       "    .dataframe tbody tr th {\n",
       "        vertical-align: top;\n",
       "    }\n",
       "\n",
       "    .dataframe thead th {\n",
       "        text-align: right;\n",
       "    }\n",
       "</style>\n",
       "<table border=\"1\" class=\"dataframe\">\n",
       "  <thead>\n",
       "    <tr style=\"text-align: right;\">\n",
       "      <th></th>\n",
       "      <th>dt</th>\n",
       "      <th>AverageTemperature</th>\n",
       "      <th>AverageTemperatureUncertainty</th>\n",
       "      <th>Country</th>\n",
       "    </tr>\n",
       "  </thead>\n",
       "  <tbody>\n",
       "    <tr>\n",
       "      <th>0</th>\n",
       "      <td>1743-11-01</td>\n",
       "      <td>4.384</td>\n",
       "      <td>2.294</td>\n",
       "      <td>Åland</td>\n",
       "    </tr>\n",
       "    <tr>\n",
       "      <th>1</th>\n",
       "      <td>1743-12-01</td>\n",
       "      <td>NaN</td>\n",
       "      <td>NaN</td>\n",
       "      <td>Åland</td>\n",
       "    </tr>\n",
       "    <tr>\n",
       "      <th>2</th>\n",
       "      <td>1744-01-01</td>\n",
       "      <td>NaN</td>\n",
       "      <td>NaN</td>\n",
       "      <td>Åland</td>\n",
       "    </tr>\n",
       "    <tr>\n",
       "      <th>3</th>\n",
       "      <td>1744-02-01</td>\n",
       "      <td>NaN</td>\n",
       "      <td>NaN</td>\n",
       "      <td>Åland</td>\n",
       "    </tr>\n",
       "    <tr>\n",
       "      <th>4</th>\n",
       "      <td>1744-03-01</td>\n",
       "      <td>NaN</td>\n",
       "      <td>NaN</td>\n",
       "      <td>Åland</td>\n",
       "    </tr>\n",
       "  </tbody>\n",
       "</table>\n",
       "</div>"
      ],
      "text/plain": [
       "           dt  AverageTemperature  AverageTemperatureUncertainty Country\n",
       "0  1743-11-01               4.384                          2.294   Åland\n",
       "1  1743-12-01                 NaN                            NaN   Åland\n",
       "2  1744-01-01                 NaN                            NaN   Åland\n",
       "3  1744-02-01                 NaN                            NaN   Åland\n",
       "4  1744-03-01                 NaN                            NaN   Åland"
      ]
     },
     "metadata": {},
     "output_type": "display_data"
    },
    {
     "data": {
      "text/plain": [
       "dt                                object\n",
       "AverageTemperature               float64\n",
       "AverageTemperatureUncertainty    float64\n",
       "Country                           object\n",
       "dtype: object"
      ]
     },
     "metadata": {},
     "output_type": "display_data"
    },
    {
     "data": {
      "text/plain": [
       "dt                               577462\n",
       "AverageTemperature               544811\n",
       "AverageTemperatureUncertainty    545550\n",
       "Country                          577462\n",
       "dtype: int64"
      ]
     },
     "metadata": {},
     "output_type": "display_data"
    }
   ],
   "source": [
    "#used the same function as in \"happines\" file\n",
    "df_glbl = pd.read_csv('../data/temperature.csv', parse_dates=True)\n",
    "\n",
    "display(df_glbl.head())\n",
    "\n",
    "display(df_glbl.dtypes)\n",
    "\n",
    "display(df_glbl.count())"
   ]
  },
  {
   "cell_type": "code",
   "execution_count": 152,
   "metadata": {},
   "outputs": [
    {
     "name": "stderr",
     "output_type": "stream",
     "text": [
      "C:\\Users\\Bajnok\\AppData\\Local\\Temp\\ipykernel_2932\\4065139145.py:1: FutureWarning: DataFrame.fillna with 'method' is deprecated and will raise in a future version. Use obj.ffill() or obj.bfill() instead.\n",
      "  df_glbl.fillna(method='ffill', inplace=True)\n"
     ]
    },
    {
     "data": {
      "text/html": [
       "<div>\n",
       "<style scoped>\n",
       "    .dataframe tbody tr th:only-of-type {\n",
       "        vertical-align: middle;\n",
       "    }\n",
       "\n",
       "    .dataframe tbody tr th {\n",
       "        vertical-align: top;\n",
       "    }\n",
       "\n",
       "    .dataframe thead th {\n",
       "        text-align: right;\n",
       "    }\n",
       "</style>\n",
       "<table border=\"1\" class=\"dataframe\">\n",
       "  <thead>\n",
       "    <tr style=\"text-align: right;\">\n",
       "      <th></th>\n",
       "      <th>Year</th>\n",
       "      <th>AverageTemperature</th>\n",
       "      <th>AverageTemperatureUncertainty</th>\n",
       "      <th>ISO</th>\n",
       "    </tr>\n",
       "  </thead>\n",
       "  <tbody>\n",
       "    <tr>\n",
       "      <th>0</th>\n",
       "      <td>1743</td>\n",
       "      <td>8.620</td>\n",
       "      <td>2.268</td>\n",
       "      <td>ALB</td>\n",
       "    </tr>\n",
       "    <tr>\n",
       "      <th>1</th>\n",
       "      <td>1743</td>\n",
       "      <td>7.556</td>\n",
       "      <td>2.188</td>\n",
       "      <td>AND</td>\n",
       "    </tr>\n",
       "    <tr>\n",
       "      <th>2</th>\n",
       "      <td>1743</td>\n",
       "      <td>2.482</td>\n",
       "      <td>2.116</td>\n",
       "      <td>AUT</td>\n",
       "    </tr>\n",
       "    <tr>\n",
       "      <th>3</th>\n",
       "      <td>1743</td>\n",
       "      <td>0.767</td>\n",
       "      <td>2.465</td>\n",
       "      <td>BLR</td>\n",
       "    </tr>\n",
       "    <tr>\n",
       "      <th>4</th>\n",
       "      <td>1743</td>\n",
       "      <td>7.106</td>\n",
       "      <td>1.855</td>\n",
       "      <td>BEL</td>\n",
       "    </tr>\n",
       "  </tbody>\n",
       "</table>\n",
       "</div>"
      ],
      "text/plain": [
       "   Year  AverageTemperature  AverageTemperatureUncertainty  ISO\n",
       "0  1743               8.620                          2.268  ALB\n",
       "1  1743               7.556                          2.188  AND\n",
       "2  1743               2.482                          2.116  AUT\n",
       "3  1743               0.767                          2.465  BLR\n",
       "4  1743               7.106                          1.855  BEL"
      ]
     },
     "metadata": {},
     "output_type": "display_data"
    },
    {
     "data": {
      "text/plain": [
       "Year                               int32\n",
       "AverageTemperature               float64\n",
       "AverageTemperatureUncertainty    float64\n",
       "ISO                               object\n",
       "dtype: object"
      ]
     },
     "metadata": {},
     "output_type": "display_data"
    },
    {
     "data": {
      "text/plain": [
       "Year                             48243\n",
       "AverageTemperature               48243\n",
       "AverageTemperatureUncertainty    48243\n",
       "ISO                              48243\n",
       "dtype: int64"
      ]
     },
     "metadata": {},
     "output_type": "display_data"
    }
   ],
   "source": [
    "df_glbl.fillna(method='ffill', inplace=True)\n",
    "\n",
    "# aggregate dt column to year\n",
    "df_glbl['dt'] = pd.to_datetime(df_glbl['dt'])\n",
    "df_glbl['Year'] = df_glbl['dt'].dt.year\n",
    "df_glbl.drop(columns=[\"dt\"], inplace=True)\n",
    "df_glbl = df_glbl.groupby(['Year', 'Country'], as_index=False).agg({'AverageTemperature':'mean', 'AverageTemperatureUncertainty':'mean'})\n",
    "\n",
    "df_glbl.convert_dtypes()\n",
    "\n",
    "df_glbl[\"ISO\"]= df_glbl[\"Country\"].apply(get_iso_code)\n",
    "df_glbl.drop(columns=[\"Country\"], inplace=True)\n",
    "\n",
    "display(df_glbl.head())\n",
    "\n",
    "display(df_glbl.dtypes)\n",
    "\n",
    "display(df_glbl.count())"
   ]
  },
  {
   "cell_type": "code",
   "execution_count": 153,
   "metadata": {},
   "outputs": [],
   "source": [
    "#export as .csv file\n",
    "df_glbl.to_csv(\"../cleaned_data/glbl_cleaned.csv\")"
   ]
  }
 ],
 "metadata": {
  "kernelspec": {
   "display_name": "Python 3",
   "language": "python",
   "name": "python3"
  },
  "language_info": {
   "codemirror_mode": {
    "name": "ipython",
    "version": 3
   },
   "file_extension": ".py",
   "mimetype": "text/x-python",
   "name": "python",
   "nbconvert_exporter": "python",
   "pygments_lexer": "ipython3",
   "version": "3.12.3"
  }
 },
 "nbformat": 4,
 "nbformat_minor": 4
}
